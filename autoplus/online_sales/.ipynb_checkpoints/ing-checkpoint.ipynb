{
 "cells": [
  {
   "cell_type": "code",
   "execution_count": 18,
   "id": "da2b2baf",
   "metadata": {
    "scrolled": true
   },
   "outputs": [
    {
     "ename": "NameError",
     "evalue": "name 'ym202012' is not defined",
     "output_type": "error",
     "traceback": [
      "\u001b[1;31m---------------------------------------------------------------------------\u001b[0m",
      "\u001b[1;31mNameError\u001b[0m                                 Traceback (most recent call last)",
      "\u001b[1;32m<ipython-input-18-c1d908a9125b>\u001b[0m in \u001b[0;36m<module>\u001b[1;34m\u001b[0m\n\u001b[0;32m     17\u001b[0m \u001b[0mym_202104\u001b[0m \u001b[1;33m=\u001b[0m \u001b[0mpd\u001b[0m\u001b[1;33m.\u001b[0m\u001b[0mread_excel\u001b[0m\u001b[1;33m(\u001b[0m\u001b[1;34m'202104.xls'\u001b[0m\u001b[1;33m)\u001b[0m\u001b[1;33m\u001b[0m\u001b[1;33m\u001b[0m\u001b[0m\n\u001b[0;32m     18\u001b[0m \u001b[0mym_202105\u001b[0m \u001b[1;33m=\u001b[0m \u001b[0mpd\u001b[0m\u001b[1;33m.\u001b[0m\u001b[0mread_excel\u001b[0m\u001b[1;33m(\u001b[0m\u001b[1;34m'202105.xls'\u001b[0m\u001b[1;33m)\u001b[0m\u001b[1;33m\u001b[0m\u001b[1;33m\u001b[0m\u001b[0m\n\u001b[1;32m---> 19\u001b[1;33m \u001b[0mtotal2020\u001b[0m \u001b[1;33m=\u001b[0m \u001b[0mpd\u001b[0m\u001b[1;33m.\u001b[0m\u001b[0mconcat\u001b[0m\u001b[1;33m(\u001b[0m\u001b[0mym_202001\u001b[0m\u001b[1;33m,\u001b[0m\u001b[0mym_202002\u001b[0m\u001b[1;33m,\u001b[0m\u001b[0mym_202003\u001b[0m\u001b[1;33m,\u001b[0m\u001b[0mym_202004\u001b[0m\u001b[1;33m,\u001b[0m\u001b[0mym_202005\u001b[0m\u001b[1;33m,\u001b[0m\u001b[0mym_202006\u001b[0m\u001b[1;33m,\u001b[0m\u001b[0mym_202007\u001b[0m\u001b[1;33m,\u001b[0m\u001b[0mym_202008\u001b[0m\u001b[1;33m,\u001b[0m\u001b[0mym_202009\u001b[0m\u001b[1;33m,\u001b[0m\u001b[0mym_202010\u001b[0m\u001b[1;33m,\u001b[0m\u001b[0mym_202011\u001b[0m\u001b[1;33m,\u001b[0m\u001b[0mym202012\u001b[0m\u001b[1;33m)\u001b[0m\u001b[1;33m\u001b[0m\u001b[1;33m\u001b[0m\u001b[0m\n\u001b[0m\u001b[0;32m     20\u001b[0m \u001b[0mtotal2021\u001b[0m \u001b[1;33m=\u001b[0m \u001b[0mpd\u001b[0m\u001b[1;33m.\u001b[0m\u001b[0mconcat\u001b[0m\u001b[1;33m(\u001b[0m\u001b[0mym_202101\u001b[0m\u001b[1;33m,\u001b[0m\u001b[0mym_202102\u001b[0m\u001b[1;33m,\u001b[0m\u001b[0mym_202103\u001b[0m\u001b[1;33m,\u001b[0m\u001b[0mym_202104\u001b[0m\u001b[1;33m,\u001b[0m\u001b[0mym_202105\u001b[0m\u001b[1;33m)\u001b[0m\u001b[1;33m\u001b[0m\u001b[1;33m\u001b[0m\u001b[0m\n\u001b[0;32m     21\u001b[0m \u001b[0mprint\u001b[0m\u001b[1;33m(\u001b[0m\u001b[0mlen\u001b[0m\u001b[1;33m(\u001b[0m\u001b[0mtotal2020\u001b[0m\u001b[1;33m)\u001b[0m\u001b[1;33m)\u001b[0m\u001b[1;33m\u001b[0m\u001b[1;33m\u001b[0m\u001b[0m\n",
      "\u001b[1;31mNameError\u001b[0m: name 'ym202012' is not defined"
     ]
    }
   ],
   "source": [
    "import pandas as pd\n",
    "ym_202001 = pd.read_excel('202001.xls')\n",
    "ym_202002 = pd.read_excel('202002.xls')\n",
    "ym_202003 = pd.read_excel('202003.xls')\n",
    "ym_202004 = pd.read_excel('202004.xls')\n",
    "ym_202005 = pd.read_excel('202005.xls')\n",
    "ym_202006 = pd.read_excel('202006.xls')\n",
    "ym_202007 = pd.read_excel('202007.xls')\n",
    "ym_202008 = pd.read_excel('202008.xls')\n",
    "ym_202009 = pd.read_excel('202009.xls')\n",
    "ym_202010 = pd.read_excel('202010.xls')\n",
    "ym_202011 = pd.read_excel('202011.xls')\n",
    "ym_202012 = pd.read_excel('202012.xls')\n",
    "ym_202101 = pd.read_excel('202101.xls')\n",
    "ym_202102 = pd.read_excel('202102.xls')\n",
    "ym_202103 = pd.read_excel('202103.xls')\n",
    "ym_202104 = pd.read_excel('202104.xls')\n",
    "ym_202105 = pd.read_excel('202105.xls')\n",
    "total2020 = pd.concat(ym_202001,ym_202002,ym_202003,ym_202004,ym_202005,ym_202006,ym_202007,ym_202008,ym_202009,ym_202010,ym_202011,ym_202012)\n",
    "total2021 = pd.concat(ym_202101,ym_202102,ym_202103,ym_202104,ym_202105)\n",
    "print(len(total2020))\n",
    "print(len(total2021))\n",
    "# print('2020년01월', len(ym_202001), '대')\n",
    "# print('2020년02월', len(ym_202002), '대')\n",
    "# print('2020년03월', len(ym_202003), '대')\n",
    "# print('2020년04월', len(ym_202004), '대')\n",
    "# print('2020년05월', len(ym_202005), '대')\n",
    "# print('2020년06월', len(ym_202006), '대')\n",
    "# print('2020년07월', len(ym_202007), '대')\n",
    "# print('2020년08월', len(ym_202008), '대')\n",
    "# print('2020년09월', len(ym_202009), '대')\n",
    "# print('2020년10월', len(ym_202010), '대')\n",
    "# print('2020년11월', len(ym_202011), '대')\n",
    "# print('2020년12월', len(ym_202012), '대')\n",
    "# print('ㅡㅡㅡㅡㅡㅡㅡㅡㅡ')\n",
    "# print('2021년01월', len(ym_202101), '대')\n",
    "# print('2021년02월', len(ym_202102), '대')\n",
    "# print('2021년03월', len(ym_202103), '대')\n",
    "# print('2021년04월', len(ym_202104), '대')\n",
    "# print('2021년05월', len(ym_202105), '대')"
   ]
  }
 ],
 "metadata": {
  "kernelspec": {
   "display_name": "Python 3",
   "language": "python",
   "name": "python3"
  },
  "language_info": {
   "codemirror_mode": {
    "name": "ipython",
    "version": 3
   },
   "file_extension": ".py",
   "mimetype": "text/x-python",
   "name": "python",
   "nbconvert_exporter": "python",
   "pygments_lexer": "ipython3",
   "version": "3.8.6"
  }
 },
 "nbformat": 4,
 "nbformat_minor": 5
}
