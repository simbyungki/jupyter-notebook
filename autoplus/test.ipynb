{
 "cells": [
  {
   "cell_type": "code",
   "execution_count": 15,
   "id": "327b02e3",
   "metadata": {},
   "outputs": [
    {
     "name": "stdout",
     "output_type": "stream",
     "text": [
      "없다\n"
     ]
    }
   ],
   "source": [
    "l01 = ['B','A','D','E']\n",
    "l02 = ['M','C','Z','Y']\n",
    "\n",
    "if list(set(l01) & set(l02)) : \n",
    "    print('있다')\n",
    "else : \n",
    "    print('없다')\n",
    "       "
   ]
  }
 ],
 "metadata": {
  "kernelspec": {
   "display_name": "Python 3",
   "language": "python",
   "name": "python3"
  },
  "language_info": {
   "codemirror_mode": {
    "name": "ipython",
    "version": 3
   },
   "file_extension": ".py",
   "mimetype": "text/x-python",
   "name": "python",
   "nbconvert_exporter": "python",
   "pygments_lexer": "ipython3",
   "version": "3.8.6"
  }
 },
 "nbformat": 4,
 "nbformat_minor": 5
}
