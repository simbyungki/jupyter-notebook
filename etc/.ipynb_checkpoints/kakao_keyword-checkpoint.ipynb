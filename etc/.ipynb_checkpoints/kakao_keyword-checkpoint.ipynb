{
 "cells": [
  {
   "cell_type": "code",
   "execution_count": 26,
   "id": "0ad23b8a",
   "metadata": {},
   "outputs": [
    {
     "name": "stdout",
     "output_type": "stream",
     "text": [
      "{'documents': [{'blogname': '스토리아델라모레', 'contents': '웨딩<b>카</b>장식 <b>리본</b>으로 꾸미기 \\u200b \\u200b \\u200b 아름다운 웨딩드레스와 잘어울리는 더블왕짱<b>리본</b> #웨딩<b>카</b>장식 기아 K7 #웨딩<b>카</b> #결혼기념일이벤트 프로포즈이벤트 by Storia dell&#39;amore 스토리아델라모레 크레마바닐라 더블왕짱<b>리본</b>1개 와 큐방으로 부착하는 마카롱 JUSTMARRIED♡ 를 부착한 모습입니다~ 더블왕짱<b>리본</b>의 사이즈는 가로...', 'datetime': '2021-05-31T10:13:00.000+09:00', 'thumbnail': 'https://search3.kakaocdn.net/argon/130x130_85_c/JSOQmAZ6L1a', 'title': '웨딩<b>카</b>장식 <b>리본</b>으로 꾸미기', 'url': 'http://blog.naver.com/weddingcar77/222376508082'}, {'blogname': '스토리아델라모레', 'contents': '웨딩<b>카</b>장식 <b>리본</b>으로 꾸미기 \\u200b \\u200b \\u200b \\u200b 아름다운 웨딩드레스와 잘어울리는 더블킹왕<b>리본</b> #웨딩<b>카</b>장식 포르쉐 카이엔 #웨딩<b>카</b> 프로포즈이벤트 by Storia dell&#39;amore 스토리아델라모레 포르쉐 카이엔에 더블킹왕<b>리본</b> 1개와 큐방으로 부착하는 마카롱JUSTMARRIED♥, 손잡이하트4개를 부착했습니다~ 더블킹왕<b>리본</b>의 사이즈는 <b>리본</b>...', 'datetime': '2021-04-29T04:39:00.000+09:00', 'thumbnail': 'https://search1.kakaocdn.net/argon/130x130_85_c/5fCZuu2Ji7C', 'title': '웨딩<b>카</b>장식 <b>리본</b>으로 꾸미기', 'url': 'http://blog.naver.com/weddingcar77/222327005902'}, {'blogname': '중고차의 바른 기준 리:본카 !', 'contents': 'G80 3.3 GDI 프레스티지 X 더 K9 3.8 GDI 플래티넘 여러분들 안녕하세요~ 중고차의 바른 기준! 오토플러스 <b>리본</b><b>카</b>에요~ \\u200b 어린이 날! 어버이 날! 가족들과 시간 잘 보내셨나요~? 맛있는 것도 많이 드셨나요~? 행복 하셨나요~? (질척질척~) \\u200b 2021년도 우리 모두가 5월의 Big Event 들을 하나 둘 지새고 있네요~ \\u200b 오토...', 'datetime': '2021-05-11T09:25:00.000+09:00', 'thumbnail': 'https://search2.kakaocdn.net/argon/130x130_85_c/4gjKmJTTo5R', 'title': '<b>리본</b><b>카</b> X 티몬 콜라보 #<b>리본</b>쇼 🚘국산 대형차 특집🚘', 'url': 'http://blog.naver.com/autoplus_reborn/222346123638'}, {'blogname': '시간을 달리는 고양이', 'contents': '어쨌든.. 메이크업샵은 서울 청담이었고 예식장은 인천 송도였기 때문에 고속도로 타고 오면 <b>리본</b> 장식이 다 날아갈 거 같아서 도착해서 <b>리본</b>을 달기로 했어요 웨딩<b>카</b> <b>리본</b>이랑 장식은 신랑이 미리 다 사뒀더라구요 뭘 사뒀었는지는 저도 몰랐던..=ㅁ=;; 저는 신부대기실에서 옷 다시 입고 준비하는 동안 신랑은 웨딩<b>카</b>...', 'datetime': '2021-05-07T16:34:00.000+09:00', 'thumbnail': 'https://search3.kakaocdn.net/argon/130x130_85_c/2f2d6gjeXKw', 'title': '웨딩<b>카</b> <b>리본</b> 꽃 장식 셀프로 꾸미기', 'url': 'http://blog.naver.com/cpcat/222341563273'}, {'blogname': '중고차의 바른 기준 리:본카 !', 'contents': '\\u200b \\u200b <b>리본</b><b>카</b> x CJ라이브라떼 콜라보 글로벌 독일 명차 특집 Re:BORN SHOW \\u200b 안녕하세요! 중고차의 바른 기준 ! 오토플러스 <b>리본</b><b>카</b>입니다 (◍•ᴗ•◍)💙 \\u200b \\u200b 인사와 함께 돌발 퀴즈~ Q. 화요일 오후 5시 하면 생각나는 것은 ? \\u200b 정답은!? 바로 매주 화요일 오후 5시에 진행되는 <b>리본</b>쇼 인데요 - ! \\u200b \\u200b <b>리본</b><b>카</b> 유튜브에서 진행되었던...', 'datetime': '2021-04-05T17:32:00.000+09:00', 'thumbnail': 'https://search1.kakaocdn.net/argon/130x130_85_c/2i7BJCGDgnj', 'title': '<b>리본</b><b>카</b> x CJ라이브라떼 콜라보 특집! #<b>리본</b>쇼', 'url': 'http://blog.naver.com/autoplus_reborn/222299404938'}, {'blogname': '달콤달콤 Sweet Life~♥', 'contents': '그러려니 하는 생각입니다. \\u200b 그래도 봄은 봄!! 날씨가 따뜻해지고 새싹이 피어나는 봄이니만큼 봄맞이 스팀세차를 진행했답니다. \\u200b \\u200b 제가 방문한 곳은 제천 <b>리본</b><b>카</b>케어 입니다. \\u200b 꼼꼼하게 잘 해주어서 단골로 이용하고 있는 곳이죠. \\u200b \\u200b \\u200b \\u200b 이용하실 생각이 있는 분들을 위해 가격표도 찰칵~ \\u200b 생각보다 비싸지 않으면서 가격...', 'datetime': '2021-03-15T09:00:00.000+09:00', 'thumbnail': 'https://search1.kakaocdn.net/argon/130x130_85_c/2OtuTOQFgoe', 'title': '봄맞이 스팀세차 제천 <b>리본</b><b>카</b>케어에서 했다', 'url': 'http://blog.naver.com/mighthyun/222270107803'}, {'blogname': '레이트 어답터', 'contents': '#오토플러스<b>리본</b><b>카</b>#더뉴레이밴프레스티지20년형중고차 \\u200b 안녕하세요. 오토플러스 최진영 입니다. 저희회사 <b>리본</b><b>카</b>에 인기있는 더뉴레이밴이 입고되어 소개시켜드립니다. \\u200b 2020년 9월 출고된 9개월된 신차급 중고차 티타늄실버색상, 약4천키로대 주행, 신차가 1300만원이지만 판매가격은 1080만원. 100% 무사고 , 업무용...', 'datetime': '2021-05-27T23:20:00.000+09:00', 'thumbnail': 'https://search1.kakaocdn.net/argon/130x130_85_c/4zaBXAiLacy', 'title': '더뉴레이 밴 프레스티지 2020년식 <b>리본</b><b>카</b>에 입고', 'url': 'http://blog.naver.com/silver8530/222370685166'}, {'blogname': '레이트 어답터', 'contents': '#더뉴카니발<b>리본</b><b>카</b> #더뉴카니발휘발유노블레스스페셜 #더뉴카니발가솔린중고차 \\u200b 안녕하세요. 오토플러스 최진영 입니다. 이번에 소개시켜드릴 차량은, \\u200b 더뉴카니발 9인승 노블레스스페셜 2019년8월등록, 2만키로 , 무사고 입니다. \\u200b 옵션특징은, led라이트, 써라운드뷰, 메모리시트, 전동트렁크가 적용된 부분 입니다...', 'datetime': '2021-06-05T07:34:00.000+09:00', 'thumbnail': 'https://search1.kakaocdn.net/argon/130x130_85_c/JljgFxxGR15', 'title': '더뉴카니발 9인승 가솔린 노블레스 스페셜 2019년 2만키로 새로운 <b>리본</b><b>카</b> 입고', 'url': 'http://blog.naver.com/silver8530/222384948365'}, {'blogname': '캘리쏭★calissong', 'contents': 'Order Now★ ★주문하신 후에는 교환&amp;환불&amp;취소 어려우므로 신중한 구매 부탁드립니다★ 주문서 링크 http://na... blog.naver.com 띠어리 <b>리본</b> 니트 <b>카</b>레니아 니트 봄 버전이에요 :) 띠어리 매니아라면 누구나 아는 <b>카</b>.레.니.아!!! 핏이 정말 이뿌죠^^ 제가 젤 좋아하는 니트 라인이에요 ♡ 전체적으로 <b>카</b>레니아랑...', 'datetime': '2021-05-02T23:27:00.000+09:00', 'thumbnail': 'https://search1.kakaocdn.net/argon/130x130_85_c/54R7VVcwOv3', 'title': '띠어리 <b>리본</b> 니트 <b>카</b>레니아 봄니트 네이비♡', 'url': 'http://blog.naver.com/lovessong_/222334011070'}, {'blogname': 'Enjoy your life', 'contents': '<b>리본</b><b>카</b> 유튜브 구독+ 알림설정을 하면 다양한 경품을 주는 이벤트가 진행 중이에요! \\u200b <b>리본</b><b>카</b>유튜브 구독 꾹 누르고 어떤 영상들이 올라와있을지 함께 알아보아요:) \\u200b 유튜브 카테고리를 보시면 <b>리본</b>쇼 차량 리스트를 소개해주는 영상들부터 <b>리본</b>쇼를 간략하게 볼 수 있는 영상들과, 오토플러스를 직접 방문하여 촬영된...', 'datetime': '2021-02-09T23:58:00.000+09:00', 'thumbnail': 'https://search1.kakaocdn.net/argon/130x130_85_c/FeBDtsjsV1Z', 'title': '<b>리본</b><b>카</b> 유튜브 함께 구독해요!', 'url': 'http://blog.naver.com/tpdstmddms/222238406454'}], 'meta': {'is_end': False, 'pageable_count': 735, 'total_count': 40379}}\n"
     ]
    },
    {
     "ename": "TypeError",
     "evalue": "__init__() got an unexpected keyword argument 'columnms'",
     "output_type": "error",
     "traceback": [
      "\u001b[1;31m---------------------------------------------------------------------------\u001b[0m",
      "\u001b[1;31mTypeError\u001b[0m                                 Traceback (most recent call last)",
      "\u001b[1;32m<ipython-input-26-a53db94b5fb3>\u001b[0m in \u001b[0;36m<module>\u001b[1;34m\u001b[0m\n\u001b[0;32m     28\u001b[0m     \u001b[0mlist\u001b[0m\u001b[1;33m.\u001b[0m\u001b[0mappend\u001b[0m\u001b[1;33m(\u001b[0m\u001b[0mval\u001b[0m\u001b[1;33m)\u001b[0m\u001b[1;33m\u001b[0m\u001b[1;33m\u001b[0m\u001b[0m\n\u001b[0;32m     29\u001b[0m \u001b[1;33m\u001b[0m\u001b[0m\n\u001b[1;32m---> 30\u001b[1;33m \u001b[0mdf\u001b[0m \u001b[1;33m=\u001b[0m \u001b[0mpd\u001b[0m\u001b[1;33m.\u001b[0m\u001b[0mDataFrame\u001b[0m\u001b[1;33m(\u001b[0m\u001b[0mlist\u001b[0m\u001b[1;33m,\u001b[0m \u001b[0mcolumnms\u001b[0m \u001b[1;33m=\u001b[0m \u001b[1;33m[\u001b[0m\u001b[1;34m'title'\u001b[0m\u001b[1;33m,\u001b[0m \u001b[1;34m'contents'\u001b[0m\u001b[1;33m,\u001b[0m \u001b[1;34m'blogname'\u001b[0m\u001b[1;33m,\u001b[0m \u001b[1;34m'datetime'\u001b[0m\u001b[1;33m,\u001b[0m \u001b[1;34m'url'\u001b[0m\u001b[1;33m]\u001b[0m\u001b[1;33m)\u001b[0m\u001b[1;33m\u001b[0m\u001b[1;33m\u001b[0m\u001b[0m\n\u001b[0m\u001b[0;32m     31\u001b[0m \u001b[0mdf\u001b[0m\u001b[1;33m\u001b[0m\u001b[1;33m\u001b[0m\u001b[0m\n\u001b[0;32m     32\u001b[0m \u001b[1;33m\u001b[0m\u001b[0m\n",
      "\u001b[1;31mTypeError\u001b[0m: __init__() got an unexpected keyword argument 'columnms'"
     ]
    }
   ],
   "source": [
    "import pandas as pd\n",
    "import requests; from urllib.parse import urlparse\n",
    "import seaborn as sns\n",
    "import matplotlib; import matplotlib.pyplot as plt\n",
    "import squarify\n",
    "import json\n",
    "\n",
    "# 웹검색\n",
    "# url = 'https://dapi.kakao.com/v2/search/web'\n",
    "# 블로그 검색\n",
    "url = 'https://dapi.kakao.com/v2/search/blog'\n",
    "# 카페 검색\n",
    "# url = 'https://dapi.kakao.com/v2/search/cafe'\n",
    "queryString = {'query':'리본카'}\n",
    "header = {'authorization': 'KakaoAK 72763a887889dd1743110717430d84ec'}\n",
    "result = requests.get(url, headers=header, params=queryString)\n",
    "json_obj = result.json()\n",
    "# print(json_obj)\n",
    "\n",
    "list = []\n",
    "for document in json_obj['documents'] :\n",
    "    val = [\n",
    "        document['title'].replace('<b>','').replace('</b>', ''),\n",
    "        document['contents'].replace('<b>','').replace('</b>', ''),\n",
    "        document['blogname'].replace('&lt;','').replace('&gt;', ''),\n",
    "        document['datetime'],\n",
    "        document['url']\n",
    "    ]\n",
    "    list.append(val)\n",
    "\n",
    "df = pd.DataFrame(list, columnms = ['title', 'contents', 'blogname', 'datetime', 'url'])\n",
    "df\n",
    "\n"
   ]
  }
 ],
 "metadata": {
  "kernelspec": {
   "display_name": "Python 3",
   "language": "python",
   "name": "python3"
  },
  "language_info": {
   "codemirror_mode": {
    "name": "ipython",
    "version": 3
   },
   "file_extension": ".py",
   "mimetype": "text/x-python",
   "name": "python",
   "nbconvert_exporter": "python",
   "pygments_lexer": "ipython3",
   "version": "3.8.6"
  }
 },
 "nbformat": 4,
 "nbformat_minor": 5
}
