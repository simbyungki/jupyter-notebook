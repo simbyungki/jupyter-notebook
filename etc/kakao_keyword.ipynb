{
 "cells": [
  {
   "cell_type": "code",
   "execution_count": 40,
   "id": "0ad23b8a",
   "metadata": {
    "scrolled": false
   },
   "outputs": [
    {
     "name": "stdout",
     "output_type": "stream",
     "text": [
      "리본카 블로그 : 2500건\n",
      "리본카 카페 : 5000건\n",
      "리본카 카페+블로그7500건\n"
     ]
    }
   ],
   "source": [
    "import pandas as pd\n",
    "import requests; from urllib.parse import urlparse\n",
    "import seaborn as sns\n",
    "import matplotlib; import matplotlib.pyplot as plt\n",
    "import squarify\n",
    "import json\n",
    "\n",
    "def kakao_api_blog(keyword, page) : \n",
    "    url = 'https://dapi.kakao.com/v2/search/blog'\n",
    "    queryString = {'query':keyword, 'size':50, 'page':str(page)}\n",
    "    header = {'authorization': 'KakaoAK 72763a887889dd1743110717430d84ec'}\n",
    "    result = requests.get(url, headers=header, params=queryString)\n",
    "    json_obj = result.json()\n",
    "    return json_obj\n",
    "\n",
    "def kakao_api_cafe(keyword, page) : \n",
    "    url = 'https://dapi.kakao.com/v2/search/cafe'\n",
    "    queryString = {'query':keyword, 'size':50, 'page':str(page)}\n",
    "    header = {'authorization': 'KakaoAK 72763a887889dd1743110717430d84ec'}\n",
    "    result = requests.get(url, headers=header, params=queryString)\n",
    "    json_obj = result.json()\n",
    "    return json_obj\n",
    "\n",
    "\n",
    "\n",
    "# 웹검색\n",
    "# url = 'https://dapi.kakao.com/v2/search/web'\n",
    "# 블로그 검색\n",
    "# url = 'https://dapi.kakao.com/v2/search/blog'\n",
    "# 카페 검색\n",
    "\n",
    "# print(json_obj)\n",
    "\n",
    "# 블로그 검색\n",
    "list = []\n",
    "keyword = '리본카'\n",
    "page = 1\n",
    "\n",
    "for i in range(50) :     \n",
    "    json_obj = kakao_api_blog(keyword, page)\n",
    "    for document in json_obj['documents'] :\n",
    "        val = [\n",
    "            document['title'].replace('<b>','').replace('</b>', ''),\n",
    "            document['contents'].replace('<b>','').replace('</b>', ''),\n",
    "            document['blogname'].replace('&lt;','').replace('&gt;', ''),\n",
    "            document['datetime'],\n",
    "            document['url']\n",
    "        ]\n",
    "        list.append(val)\n",
    "    if json_obj['meta']['is_end'] is True: break\n",
    "\n",
    "df1 = pd.DataFrame(list, columns = ['title', 'contents', 'name', 'datetime', 'url'])\n",
    "df1\n",
    "print('리본카 블로그 : ' + str(len(df1)) + '건')\n",
    "\n",
    "for i in range(50) :     \n",
    "    json_obj = kakao_api_cafe(keyword, page)\n",
    "    for document in json_obj['documents'] :\n",
    "        val = [\n",
    "            document['title'].replace('<b>','').replace('</b>', ''),\n",
    "            document['contents'].replace('<b>','').replace('</b>', ''),\n",
    "            document['cafename'].replace('&lt;','').replace('&gt;', ''),\n",
    "            document['datetime'],\n",
    "            document['url']\n",
    "        ]\n",
    "        list.append(val)\n",
    "    if json_obj['meta']['is_end'] is True: break\n",
    "\n",
    "df2 = pd.DataFrame(list, columns = ['title', 'contents', 'name', 'datetime', 'url'])\n",
    "df2\n",
    "\n",
    "print('리본카 카페 : ' + str(len(df2)) + '건')\n",
    "\n",
    "df = pd.concat([df1, df2], axis=0)\n",
    "print('리본카 카페+블로그' + str(len(df)) + '건')\n",
    "\n",
    "df.to_excel('C:/Users/PC/Documents/simbyungki/git/car_news_zip/data/contactkakao_blog_cafe.xlsx')\n",
    "\n"
   ]
  },
  {
   "cell_type": "code",
   "execution_count": 50,
   "id": "59e6eb7d",
   "metadata": {},
   "outputs": [
    {
     "ename": "AttributeError",
     "evalue": "'Int64Index' object has no attribute 'year'",
     "output_type": "error",
     "traceback": [
      "\u001b[1;31m---------------------------------------------------------------------------\u001b[0m",
      "\u001b[1;31mAttributeError\u001b[0m                            Traceback (most recent call last)",
      "\u001b[1;32m<ipython-input-50-839e17d6fc9c>\u001b[0m in \u001b[0;36m<module>\u001b[1;34m\u001b[0m\n\u001b[1;32m----> 1\u001b[1;33m \u001b[0mshapes\u001b[0m \u001b[1;33m=\u001b[0m \u001b[0mdf\u001b[0m\u001b[1;33m.\u001b[0m\u001b[0mgroupby\u001b[0m\u001b[1;33m(\u001b[0m\u001b[0mdf\u001b[0m\u001b[1;33m.\u001b[0m\u001b[0mindex\u001b[0m\u001b[1;33m.\u001b[0m\u001b[0myear\u001b[0m\u001b[1;33m)\u001b[0m\u001b[1;33m.\u001b[0m\u001b[0msize\u001b[0m\u001b[1;33m(\u001b[0m\u001b[1;33m)\u001b[0m\u001b[1;33m.\u001b[0m\u001b[0mreset_index\u001b[0m\u001b[1;33m(\u001b[0m\u001b[1;33m)\u001b[0m\u001b[1;33m\u001b[0m\u001b[1;33m\u001b[0m\u001b[0m\n\u001b[0m\u001b[0;32m      2\u001b[0m \u001b[0mshapes\u001b[0m\u001b[1;33m,\u001b[0m\u001b[0mcolumns\u001b[0m \u001b[1;33m=\u001b[0m \u001b[1;33m[\u001b[0m\u001b[1;34m'year'\u001b[0m\u001b[1;33m,\u001b[0m \u001b[1;34m'total'\u001b[0m\u001b[1;33m]\u001b[0m\u001b[1;33m\u001b[0m\u001b[1;33m\u001b[0m\u001b[0m\n\u001b[0;32m      3\u001b[0m \u001b[0mshapes\u001b[0m\u001b[1;33m.\u001b[0m\u001b[0msort_values\u001b[0m\u001b[1;33m(\u001b[0m\u001b[1;34m'year'\u001b[0m\u001b[1;33m,\u001b[0m \u001b[0mascending\u001b[0m\u001b[1;33m=\u001b[0m\u001b[1;32mFalse\u001b[0m\u001b[1;33m)\u001b[0m\u001b[1;33m.\u001b[0m\u001b[0mhead\u001b[0m\u001b[1;33m(\u001b[0m\u001b[1;36m5\u001b[0m\u001b[1;33m)\u001b[0m\u001b[1;33m\u001b[0m\u001b[1;33m\u001b[0m\u001b[0m\n",
      "\u001b[1;31mAttributeError\u001b[0m: 'Int64Index' object has no attribute 'year'"
     ]
    }
   ],
   "source": [
    "shapes = df.groupby(df.index.year).size().reset_index()\n",
    "shapes,columns = ['year', 'total']\n",
    "shapes.sort_values('year', ascending=False).head(5)"
   ]
  },
  {
   "cell_type": "code",
   "execution_count": 64,
   "id": "3b9cea25",
   "metadata": {},
   "outputs": [
    {
     "name": "stdout",
     "output_type": "stream",
     "text": [
      "불가능\n"
     ]
    }
   ],
   "source": [
    "num = '1a'\n",
    "try :\n",
    "    if int(num) : \n",
    "        print('가능')\n",
    "except :\n",
    "    print('불가능')"
   ]
  }
 ],
 "metadata": {
  "kernelspec": {
   "display_name": "Python 3",
   "language": "python",
   "name": "python3"
  },
  "language_info": {
   "codemirror_mode": {
    "name": "ipython",
    "version": 3
   },
   "file_extension": ".py",
   "mimetype": "text/x-python",
   "name": "python",
   "nbconvert_exporter": "python",
   "pygments_lexer": "ipython3",
   "version": "3.8.6"
  }
 },
 "nbformat": 4,
 "nbformat_minor": 5
}
